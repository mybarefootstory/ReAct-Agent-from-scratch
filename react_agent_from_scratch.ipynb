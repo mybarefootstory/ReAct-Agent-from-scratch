{
 "cells": [
  {
   "cell_type": "code",
   "execution_count": 50,
   "id": "00e11630",
   "metadata": {},
   "outputs": [],
   "source": [
    "import os \n",
    "from dotenv import load_dotenv\n",
    "load_dotenv()\n",
    "\n",
    "TAVILY_API_KEY = os.getenv(\"TAVILY_API_KEY\")\n",
    "# print(TAVILY_API_KEY)\n",
    "GOOGLE_API_KEY = os.getenv(\"GOOGLE_API_KEY\")\n",
    "# print(GOOGLE_API_KEY)\n",
    "LANGCHAIN_API_KEY = os.getenv(\"LANGCHAIN_API_KEY\")\n",
    "# print(LANGCHAIN_API_KEY)\n",
    "GROQ_API_KEY = os.getenv(\"GROQ_API_KEY\")\n",
    "# print(GROQ_API_KEY)"
   ]
  },
  {
   "cell_type": "code",
   "execution_count": 51,
   "id": "403236bd",
   "metadata": {},
   "outputs": [
    {
     "name": "stdout",
     "output_type": "stream",
     "text": [
      "It's nice to meet you. Is there something I can help you with or would you like to chat?\n"
     ]
    }
   ],
   "source": [
    "from langchain_groq import ChatGroq\n",
    "llm = ChatGroq(model_name=\"llama-3.3-70b-versatile\")\n",
    "print(llm.invoke(\"Hi\").content)"
   ]
  },
  {
   "cell_type": "code",
   "execution_count": 52,
   "id": "7b9e69f0",
   "metadata": {},
   "outputs": [],
   "source": [
    "message=[{\"role\":\"system\",\"content\":\"You are a helpful assistant\"},\n",
    "         {\"role\":\"user\",\"content\":\"hi How are you doing?\"}]"
   ]
  },
  {
   "cell_type": "code",
   "execution_count": 53,
   "id": "de9d7384",
   "metadata": {},
   "outputs": [
    {
     "name": "stdout",
     "output_type": "stream",
     "text": [
      "I'm doing well, thanks for asking. I'm a large language model, so I don't have feelings or emotions like humans do, but I'm always happy to help and assist you with any questions or tasks you may have. How about you? How's your day going so far?\n"
     ]
    }
   ],
   "source": [
    "print(llm.invoke(message).content)"
   ]
  },
  {
   "cell_type": "code",
   "execution_count": 54,
   "id": "320a0d63",
   "metadata": {},
   "outputs": [],
   "source": [
    "class Chatbot:\n",
    "    def __init__(self,system=\"\"):\n",
    "        # defining role of system\n",
    "        self.system=system\n",
    "        self.message=[]\n",
    "        if self.system:\n",
    "            self.message.append({\"role\":\"system\",\"content\":system})\n",
    "\n",
    "    def __call__(self,message):\n",
    "        self.message.append({\"role\":\"user\",\"content\":message})\n",
    "        result=self.execute()\n",
    "        self.message.append({\"role\":\"assistant\",\"content\":result})\n",
    "        return result\n",
    "\n",
    "    def execute(self):\n",
    "        llm = ChatGroq(model_name = \"llama-3.3-70b-versatile\" )\n",
    "        result = llm.invoke(self.message)\n",
    "        return result.content"
   ]
  },
  {
   "cell_type": "code",
   "execution_count": 55,
   "id": "1dbd0f2e",
   "metadata": {},
   "outputs": [],
   "source": [
    "bot = Chatbot(system=\"you are a helpful assistant\")\n"
   ]
  },
  {
   "cell_type": "code",
   "execution_count": 56,
   "id": "28a146d2",
   "metadata": {},
   "outputs": [
    {
     "data": {
      "text/plain": [
       "[{'role': 'system', 'content': 'you are a helpful assistant'}]"
      ]
     },
     "execution_count": 56,
     "metadata": {},
     "output_type": "execute_result"
    }
   ],
   "source": [
    "bot.message"
   ]
  },
  {
   "cell_type": "code",
   "execution_count": 57,
   "id": "5b604c2f",
   "metadata": {},
   "outputs": [
    {
     "data": {
      "text/plain": [
       "\"I'm doing well, thanks for asking. I'm a large language model, so I don't have feelings or emotions like humans do, but I'm always happy to help and assist with any questions or tasks you may have. How about you? How's your day going so far? Is there anything I can help you with?\""
      ]
     },
     "execution_count": 57,
     "metadata": {},
     "output_type": "execute_result"
    }
   ],
   "source": [
    "bot(\"Hi How are you?\")"
   ]
  },
  {
   "cell_type": "code",
   "execution_count": 58,
   "id": "9c74b719",
   "metadata": {},
   "outputs": [
    {
     "data": {
      "text/plain": [
       "[{'role': 'system', 'content': 'you are a helpful assistant'},\n",
       " {'role': 'user', 'content': 'Hi How are you?'},\n",
       " {'role': 'assistant',\n",
       "  'content': \"I'm doing well, thanks for asking. I'm a large language model, so I don't have feelings or emotions like humans do, but I'm always happy to help and assist with any questions or tasks you may have. How about you? How's your day going so far? Is there anything I can help you with?\"}]"
      ]
     },
     "execution_count": 58,
     "metadata": {},
     "output_type": "execute_result"
    }
   ],
   "source": [
    "# bot.__call__(\"Tell me about yourself\")\n",
    "# bot.execute()\n",
    "bot.message"
   ]
  },
  {
   "cell_type": "code",
   "execution_count": 59,
   "id": "fb6137f9",
   "metadata": {},
   "outputs": [],
   "source": [
    "prompt = \"\"\"\n",
    "You run in a loop of Thought, Action, PAUSE, Observation.\n",
    "At the end of the loop your output an Answer.\n",
    "Use thought to describe your thoughts about the question you have been asked.\n",
    "Use action to run one of the actions available to you - then return PAUSE\n",
    "Observation will be the result of running those actions.\n",
    "\n",
    "Your available actions are:\n",
    "calculate:\n",
    "e.g. calculate:4*7/3\n",
    "Runs a calculator and returns the number - uses Python so be sure to use floating point syntax if necessary\n",
    "\n",
    "wikipedia:\n",
    "e.g. wikipedia: Django\n",
    "Return a summary from searching wikipedia\n",
    "\n",
    "simon_blog_search:\n",
    "e.g. simon_blog_search: Python\n",
    "Search Simon's blog for that term\n",
    "\n",
    "Exaple session:\n",
    "Question: What is the capital of France?\n",
    "Thought: I should look up France on wikipedia\n",
    "Action: wikipedia: France\n",
    "PAUSE\n",
    "\n",
    "You will be called again with this:\n",
    "Observation: France is a country. The capital is Paris.\n",
    "\n",
    "You then output:\n",
    "Answer: The capital of France is Paris\n",
    "\n",
    "Please Note: if you get bsic conversation questions like \"hi\",\"hello\",\"how are you?,\n",
    "you have to answer \"hi\",\"hello\",\"I am good\".\n",
    "\n",
    "\"\"\".strip()"
   ]
  },
  {
   "cell_type": "markdown",
   "id": "9d5c1d9e",
   "metadata": {},
   "source": [
    "### Pattern Breakdown\n",
    "* ^ : This matches the start of the string. It means the string must begin with what follows.\n",
    "* Action : This is a literal match. iT means the string must have the text \"Action\" at the beginning.\n",
    "* (\\w+) : The parantheses () define a capture group. This allows you to extract part of the string that matches this section. \\w+ matches one or more characters (letters, digits and undersores). This will capture a word that follows \"Action\".\n",
    "* : : this is a literal colon that seperates teh word natched by (\\w+) from the rest of the string.\n",
    "* (.*) : THis is another capture group, where .* matches any character (.) zero or more times (*), which emans it captures everything that comes after the second colon.\n",
    "\n",
    "## What does it do?\n",
    "This regex is looking for a string that:\n",
    "* Starts with the text \"Action\".\n",
    "* Has a word right after it, seperated by a colon.\n",
    "* Then, after another colon, it captures everything that follow."
   ]
  },
  {
   "cell_type": "code",
   "execution_count": null,
   "metadata": {},
   "outputs": [],
   "source": [
    "# To parse the action part during execution\n",
    "import re\n",
    "action_re = re.compile('^Action: (\\w+): (.*)')"
   ]
  },
  {
   "cell_type": "code",
   "execution_count": 61,
   "id": "497747cc",
   "metadata": {},
   "outputs": [],
   "source": [
    "import httpx\n",
    "def wikipedia(query):\n",
    "    response = httpx.get(\"https://en.wikipedia.org/w/api.php\",params={\n",
    "        \"action\":\"query\",\n",
    "        \"list\" : \"search\",\n",
    "        \"srsearch\":query,\n",
    "        \"format\":\"json\"\n",
    "    })\n",
    "    return response.json()[\"query\"][\"search\"][0][\"snippet\"]"
   ]
  },
  {
   "cell_type": "code",
   "execution_count": 74,
   "id": "8d31cd09",
   "metadata": {},
   "outputs": [],
   "source": [
    "import httpx\n",
    "def simon_blog_search(query):\n",
    "    response = httpx.get(\"https://datasette.simonwillison.net/simonwillisonblog.json\",params={\n",
    "        \"sql\": \"\"\"\n",
    "        select \n",
    "        blog_entry.title || ': ' || substr(html_strip_tags(blog_entry.body),0,1000) as text,\n",
    "        blog_entry.created\n",
    "        from \n",
    "        blog_entry join blog_entry_fts on blog_entry.rowid = blog_entry_fts.rowid\n",
    "        where\n",
    "        blog_entry_fts match escape_fts(:q)\n",
    "        order by\n",
    "        blog_entry_fts.rank\n",
    "        limit\n",
    "        1\n",
    "        \"\"\".strip(),\n",
    "        \"_shape\":\"array\",\n",
    "        \"q\":query\n",
    "    })\n",
    "    return response.json()[0][\"text\"]"
   ]
  },
  {
   "cell_type": "code",
   "execution_count": 75,
   "id": "6c8e6bc3",
   "metadata": {},
   "outputs": [],
   "source": [
    "def calculate(number):\n",
    "    return eval(number)"
   ]
  },
  {
   "cell_type": "code",
   "execution_count": 76,
   "id": "8c7dced5",
   "metadata": {},
   "outputs": [],
   "source": [
    "known_actions = {\n",
    "    \"wikipedia\": wikipedia,\n",
    "    \"calculate\" : calculate,\n",
    "    \"simon_blog_search\" : simon_blog_search\n",
    "}"
   ]
  },
  {
   "cell_type": "code",
   "execution_count": 77,
   "id": "3884a2ab",
   "metadata": {},
   "outputs": [],
   "source": [
    "def query(question,max_turns=5):\n",
    "    i=0\n",
    "    bot = Chatbot(prompt)\n",
    "    next_prompt = question\n",
    "    while i<max_turns:\n",
    "        i += 1\n",
    "        result = bot(next_prompt)\n",
    "        print(result)\n",
    "        actions=[action_re.match(a) for a in result.split('\\n') if action_re.match(a)]\n",
    "        if actions:\n",
    "            action, action_input = actions[0].groups()\n",
    "            if action not in known_actions:\n",
    "                raise Exception(f\"Unknown action: {action}: {action_input}\")\n",
    "            print(\" -- running {} {}\".format(action, action_input))\n",
    "            observation = known_actions[action](action_input)\n",
    "            print(\"Observation:\", observation)\n",
    "            next_prompt = f\"Observation: {observation}\"\n",
    "        else:\n",
    "            return result"
   ]
  },
  {
   "cell_type": "code",
   "execution_count": 66,
   "id": "cca3025c",
   "metadata": {},
   "outputs": [
    {
     "name": "stdout",
     "output_type": "stream",
     "text": [
      "hi\n"
     ]
    },
    {
     "data": {
      "text/plain": [
       "'hi'"
      ]
     },
     "execution_count": 66,
     "metadata": {},
     "output_type": "execute_result"
    }
   ],
   "source": [
    "query(\"hi\")"
   ]
  },
  {
   "cell_type": "code",
   "execution_count": 67,
   "id": "645cf872",
   "metadata": {},
   "outputs": [
    {
     "name": "stdout",
     "output_type": "stream",
     "text": [
      "I am good\n"
     ]
    },
    {
     "data": {
      "text/plain": [
       "'I am good'"
      ]
     },
     "execution_count": 67,
     "metadata": {},
     "output_type": "execute_result"
    }
   ],
   "source": [
    "query(\"How are you doing?\")"
   ]
  },
  {
   "cell_type": "code",
   "execution_count": 69,
   "id": "2494257e",
   "metadata": {},
   "outputs": [
    {
     "name": "stdout",
     "output_type": "stream",
     "text": [
      "Thought: To find the product of fifteen and twenty-five, I can use the calculate action to multiply these numbers.\n",
      "\n",
      "Action: calculate: 15*25\n",
      "PAUSE\n",
      " -- running calculate 15*25\n",
      "Observation: 375\n",
      "Answer: The product of fifteen and twenty-five is 375.\n",
      "Answer: The product of fifteen and twenty-five is 375.\n"
     ]
    }
   ],
   "source": [
    "print(query(\"fifteen * twenty-five\"))"
   ]
  },
  {
   "cell_type": "code",
   "execution_count": 80,
   "id": "727e5b22",
   "metadata": {},
   "outputs": [
    {
     "name": "stdout",
     "output_type": "stream",
     "text": [
      "Thought: To find out if Simon has written about AI, I should search his blog for the term \"AI\" or \"Artificial Intelligence\". This will give me a list of relevant articles or posts that Simon has written on the topic.\n",
      "\n",
      "Action: simon_blog_search: AI\n",
      "PAUSE\n",
      " -- running simon_blog_search AI\n",
      "Observation: It's OK to call it Artificial Intelligence: Update 9th January 2024: This post was clumsily written and failed to make the point I wanted it to make. I've published a follow-up, What I should have said about the term Artificial Intelligence which you should read instead.\n",
      "My original post follows.\n",
      "\n",
      "\n",
      "We need to be having high quality conversations about AI: what it can and can't do, its many risks and pitfalls and how to integrate it into society in the most beneficial ways possible.\n",
      "Any time I write anything that mentions AI it's inevitable that someone will object to the very usage of the term.\n",
      "Strawman: \"Don't call it AI! It's not actually intelligent - it's just spicy autocomplete.\"\n",
      "That strawman is right: it's not \"intelligent\" in the same way that humans are. And \"spicy autocomplete\" is actually a pretty good analogy for how a lot of these things work. But I still don't think this argument is a helpful contribution to the discussion.\n",
      "We need an agreed term for this class of technology, in order to have conversations\n",
      "Answer: Yes, Simon has written about AI. He has published at least two posts on the topic, including \"It's OK to call it Artificial Intelligence\" and a follow-up post titled \"What I should have said about the term Artificial Intelligence\", where he discusses the importance of having high-quality conversations about AI and its integration into society.\n"
     ]
    },
    {
     "data": {
      "text/plain": [
       "'Answer: Yes, Simon has written about AI. He has published at least two posts on the topic, including \"It\\'s OK to call it Artificial Intelligence\" and a follow-up post titled \"What I should have said about the term Artificial Intelligence\", where he discusses the importance of having high-quality conversations about AI and its integration into society.'"
      ]
     },
     "execution_count": 80,
     "metadata": {},
     "output_type": "execute_result"
    }
   ],
   "source": [
    "query(\"Has Simon written about AI?\")"
   ]
  },
  {
   "cell_type": "code",
   "execution_count": 79,
   "id": "960c2518",
   "metadata": {},
   "outputs": [
    {
     "name": "stdout",
     "output_type": "stream",
     "text": [
      "Thought: The observation shows that Simon has indeed written about AI, and has even published a follow-up post to clarify his thoughts on the topic. The post discusses the importance of having high-quality conversations about AI and its implications.\n",
      "\n",
      "Action: None needed, I have enough information to answer the question.\n",
      "Answer: Yes, Simon has written about AI.'\n"
     ]
    }
   ],
   "source": [
    "print(\"Thought: The observation shows that Simon has indeed written about AI, and has even published a follow-up post to clarify his thoughts on the topic. The post discusses the importance of having high-quality conversations about AI and its implications.\\n\\nAction: None needed, I have enough information to answer the question.\\nAnswer: Yes, Simon has written about AI.'\")"
   ]
  },
  {
   "cell_type": "code",
   "execution_count": 82,
   "id": "50e5ea21",
   "metadata": {},
   "outputs": [
    {
     "name": "stdout",
     "output_type": "stream",
     "text": [
      "Thought: To find out what Simon's blog has written about AI, I should search his blog for the term \"AI\". This will likely give me a list of articles or posts that mention AI, and I can use that information to provide an answer.\n",
      "\n",
      "Action: simon_blog_search: AI\n",
      "PAUSE\n",
      " -- running simon_blog_search AI\n",
      "Observation: It's OK to call it Artificial Intelligence: Update 9th January 2024: This post was clumsily written and failed to make the point I wanted it to make. I've published a follow-up, What I should have said about the term Artificial Intelligence which you should read instead.\n",
      "My original post follows.\n",
      "\n",
      "\n",
      "We need to be having high quality conversations about AI: what it can and can't do, its many risks and pitfalls and how to integrate it into society in the most beneficial ways possible.\n",
      "Any time I write anything that mentions AI it's inevitable that someone will object to the very usage of the term.\n",
      "Strawman: \"Don't call it AI! It's not actually intelligent - it's just spicy autocomplete.\"\n",
      "That strawman is right: it's not \"intelligent\" in the same way that humans are. And \"spicy autocomplete\" is actually a pretty good analogy for how a lot of these things work. But I still don't think this argument is a helpful contribution to the discussion.\n",
      "We need an agreed term for this class of technology, in order to have conversations\n",
      "Thought: The observation from Simon's blog search results provides an overview of his thoughts on the term \"Artificial Intelligence\" and how it's perceived. He acknowledges that the term may not be entirely accurate, but argues that it's still a necessary term to use in order to have high-quality conversations about the technology.\n",
      "\n",
      "Answer: Simon's blog has written about the importance of having conversations about AI, its risks and benefits, and the need for an agreed-upon term to describe this class of technology, despite some objections to the term \"Artificial Intelligence\" itself. He suggests reading his follow-up post \"What I should have said about the term Artificial Intelligence\" for a more clarified perspective.\n",
      "Thought: The observation from Simon's blog search results provides an overview of his thoughts on the term \"Artificial Intelligence\" and how it's perceived. He acknowledges that the term may not be entirely accurate, but argues that it's still a necessary term to use in order to have high-quality conversations about the technology.\n",
      "\n",
      "Answer: Simon's blog has written about the importance of having conversations about AI, its risks and benefits, and the need for an agreed-upon term to describe this class of technology, despite some objections to the term \"Artificial Intelligence\" itself. He suggests reading his follow-up post \"What I should have said about the term Artificial Intelligence\" for a more clarified perspective.\n"
     ]
    }
   ],
   "source": [
    "print(query(\"Tell me what simon blog has written about AI.\"))"
   ]
  },
  {
   "cell_type": "code",
   "execution_count": 83,
   "id": "983f0c4b",
   "metadata": {},
   "outputs": [
    {
     "name": "stdout",
     "output_type": "stream",
     "text": [
      "Thought: To find the capital of the USA, I should look up the United States on wikipedia, as it will likely have information on the country's capital.\n",
      "\n",
      "Action: wikipedia: United States\n",
      "PAUSE\n",
      " -- running wikipedia United States\n",
      "Observation: The <span class=\"searchmatch\">United</span> <span class=\"searchmatch\">States</span> of America (USA), also known as the <span class=\"searchmatch\">United</span> <span class=\"searchmatch\">States</span> (U.S.) or America, is a country located primarily in North America. It is a federal\n",
      "Thought: The observation provided does not explicitly mention the capital of the USA. I should try a more specific search, focusing on the capital itself, to get a direct answer.\n",
      "\n",
      "Action: wikipedia: Capital of the United States\n",
      "PAUSE\n",
      " -- running wikipedia Capital of the United States\n",
      "Observation: This is a list <span class=\"searchmatch\">of</span> <span class=\"searchmatch\">capital</span> cities <span class=\"searchmatch\">of</span> <span class=\"searchmatch\">the</span> <span class=\"searchmatch\">United</span> <span class=\"searchmatch\">States</span>, including places that serve or have served as federal, state, insular area, territorial, colonial\n",
      "Thought: The observation provided still does not directly state the capital of the USA. I should try to be even more specific in my search to find the correct information.\n",
      "\n",
      "Action: wikipedia: Washington, D.C.\n",
      "PAUSE\n",
      " -- running wikipedia Washington, D.C.\n",
      "Observation: <span class=\"searchmatch\">Washington</span>, <span class=\"searchmatch\">D.C</span>., formally the District of Columbia and commonly known as <span class=\"searchmatch\">Washington</span> or <span class=\"searchmatch\">D.C</span>., is the capital city and federal district of the United States\n",
      "Thought: The observation confirms that Washington, D.C. is the capital city and federal district of the United States. I now have the information needed to answer the question.\n",
      "\n",
      "Answer: The capital of the USA is Washington, D.C.\n",
      "Thought: The observation confirms that Washington, D.C. is the capital city and federal district of the United States. I now have the information needed to answer the question.\n",
      "\n",
      "Answer: The capital of the USA is Washington, D.C.\n"
     ]
    }
   ],
   "source": [
    "print(query(\"Tell me about the capital of USA.\"))"
   ]
  },
  {
   "cell_type": "code",
   "execution_count": null,
   "id": "543363ff",
   "metadata": {},
   "outputs": [],
   "source": []
  }
 ],
 "metadata": {
  "kernelspec": {
   "display_name": "venv",
   "language": "python",
   "name": "python3"
  },
  "language_info": {
   "codemirror_mode": {
    "name": "ipython",
    "version": 3
   },
   "file_extension": ".py",
   "mimetype": "text/x-python",
   "name": "python",
   "nbconvert_exporter": "python",
   "pygments_lexer": "ipython3",
   "version": "3.10.0"
  }
 },
 "nbformat": 4,
 "nbformat_minor": 5
}
